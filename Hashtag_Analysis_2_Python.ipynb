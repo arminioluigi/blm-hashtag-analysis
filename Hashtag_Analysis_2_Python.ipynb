{
  "cells": [
    {
      "cell_type": "markdown",
      "metadata": {
        "id": "view-in-github",
        "colab_type": "text"
      },
      "source": [
        "<a href=\"https://colab.research.google.com/github/arminioluigi/blm-hashtag-network-analysis/blob/main/Hashtag_Analysis_2_Python.ipynb\" target=\"_parent\"><img src=\"https://colab.research.google.com/assets/colab-badge.svg\" alt=\"Open In Colab\"/></a>"
      ]
    },
    {
      "cell_type": "markdown",
      "metadata": {
        "id": "Ctmu3u0Bz88o"
      },
      "source": [
        "# Hashtag Analysis - Hashtag network of BLM-related tweets\n",
        "\n",
        "## Co-occurrence Network: centrality measures (Python)\n"
      ]
    },
    {
      "cell_type": "markdown",
      "metadata": {
        "id": "qPagccQvz882"
      },
      "source": [
        "We firstly explored our scraped with Rteeet. Then, by using R, we generated a dataset with all the tweets scraped.\n",
        "\n",
        "Let's generate the co-occurrence network in Python to explore the central hashtags. In this case, we will focus on the direct connection of the #blacklivesmatter hashtag and the direct connection of the connections. Hence, we will have a connected graph.\n",
        "\n",
        "The choice of focusing on the *#blacklivesmatter* hashtag is based on the fact that this slogan is representing the social struggle for the emancipation of black people in the whole wester context, and it's interesting, by analyzing the related hashtags, the features of the communication flow related to this socio-political reality.\n",
        "\n",
        "First of all, we load all the necessary packages and our data:"
      ]
    },
    {
      "cell_type": "code",
      "execution_count": null,
      "metadata": {
        "id": "gsfbDQKcz884"
      },
      "outputs": [],
      "source": [
        "#Loading our packages\n",
        "import numpy as np\n",
        "import pandas as pd\n",
        "import matplotlib.pyplot as plt\n",
        "import os\n",
        "import pickle\n",
        "import itertools\n",
        "import igraph as ig\n",
        "from igraph import Graph\n",
        "import requests\n",
        "import httpimport\n",
        "import urllib.request\n",
        "import networkx as nx\n",
        "from pyvis.network import Network"
      ]
    },
    {
      "cell_type": "code",
      "execution_count": null,
      "metadata": {
        "id": "mxmRl05Az888"
      },
      "outputs": [],
      "source": [
        "#Readiing\n",
        "df = pd.read_csv(\"blm_dataset.csv\")"
      ]
    },
    {
      "cell_type": "markdown",
      "metadata": {
        "id": "oKgydre1z88-"
      },
      "source": [
        "Now let's generate the co-occurrence hashtag matrix:"
      ]
    },
    {
      "cell_type": "code",
      "execution_count": null,
      "metadata": {
        "id": "QhG8iX6Jz89A"
      },
      "outputs": [],
      "source": [
        "#Putting the hashtag occurring in each tweet containing the #blacklivesmatter hashtag\n",
        "hs = set()\n",
        "for x in df.text:\n",
        "    x = x.lower()\n",
        "    y = x.split()\n",
        "    listx = []\n",
        "    if not \"#blacklivesmatter\" in y:\n",
        "        continue\n",
        "    for el in y:\n",
        "        if el.startswith(\"#\") and el not in listx:\n",
        "            listx.append(el)\n",
        "            hs.add(el)\n"
      ]
    },
    {
      "cell_type": "code",
      "execution_count": null,
      "metadata": {
        "id": "MRvOL23lz89C"
      },
      "outputs": [],
      "source": [
        "#Putting all the hashtags-per-tweet into a list\n",
        "docs = []\n",
        "for x in df.text:\n",
        "    x = x.lower()\n",
        "    y = x.split()\n",
        "    listx = []\n",
        "    for el in y:\n",
        "        if el.startswith(\"#\") and el not in listx:\n",
        "            listx.append(el)\n",
        "    if len(listx)>0:\n",
        "        docs.append(listx)"
      ]
    },
    {
      "cell_type": "code",
      "execution_count": null,
      "metadata": {
        "id": "GFf9plwyz89E"
      },
      "outputs": [],
      "source": [
        "#Generating all the co-occurring hashtag couples (edges) in a list of tuples\n",
        "edgeslist = []\n",
        "for i in range(len(docs)):\n",
        "    edgeslist.extend(list(itertools.combinations(docs[i],2)))\n",
        "    \n",
        "#deleting nodes that cannot reach the #blachlivesmatter hashtag\n",
        "edgeslist = [(x,y) for (x,y) in edgeslist if (x in hs or y in hs)]"
      ]
    },
    {
      "cell_type": "code",
      "execution_count": null,
      "metadata": {
        "id": "DpUp8156z89G"
      },
      "outputs": [],
      "source": [
        "#Creating a dictionary that map, for each hashtag co-occurrence couple, the number of tweets in which 2 hashtag co-occur\n",
        "ret = {}\n",
        "for el in edgeslist:\n",
        "    sel = tuple(sorted(el))\n",
        "    if sel in ret:\n",
        "        ret[sel]+=1\n",
        "    else:\n",
        "        ret[sel]=1"
      ]
    },
    {
      "cell_type": "code",
      "execution_count": null,
      "metadata": {
        "id": "58Rw4aTNz89I"
      },
      "outputs": [],
      "source": [
        "#Generating a list of edges with the associated weight per edge, as a list of tuples\n",
        "weightededges = []\n",
        "for el in ret:\n",
        "    weightededges.append((el[0],el[1],ret[el]))"
      ]
    },
    {
      "cell_type": "markdown",
      "metadata": {
        "id": "ZM6yV5PFz89J"
      },
      "source": [
        "We have our list of edges. The edges are \"weighted\" according to the frequency with whom they co-occur (i.e., the number of tweets in which they co-occur). This allows us to generate a weighted graph:"
      ]
    },
    {
      "cell_type": "code",
      "execution_count": null,
      "metadata": {
        "id": "OAcEz1Pcz89K"
      },
      "outputs": [],
      "source": [
        "#Generating the co-occurrence graph\n",
        "G = nx.Graph()\n",
        "G.add_weighted_edges_from(weightededges)"
      ]
    },
    {
      "cell_type": "code",
      "execution_count": null,
      "metadata": {
        "id": "P1OfvNJsz89L",
        "outputId": "69239c03-ecc0-472b-b4f9-41e6b5f0df00"
      },
      "outputs": [
        {
          "data": {
            "text/plain": [
              "True"
            ]
          },
          "execution_count": 15,
          "metadata": {},
          "output_type": "execute_result"
        }
      ],
      "source": [
        "#Seeing if the graph is connected\n",
        "nx.is_connected(G)"
      ]
    },
    {
      "cell_type": "markdown",
      "metadata": {
        "id": "tM_A0xyQz89O"
      },
      "source": [
        "# Centrality measures\n",
        "As evidenced by the existing sociological literature, we can analyze the relationship between different hashtags in a corpus of tweets by applying the typical centrality measures from SNA to the co-occurrence matrix of the hashtags\n",
        "\n",
        "\n",
        "**Degree Centrality**\n",
        "\n",
        "First of all, let's explore the most connected hashtags by using the degree centrality:\n"
      ]
    },
    {
      "cell_type": "code",
      "execution_count": null,
      "metadata": {
        "id": "BMnnxSacz89Q"
      },
      "outputs": [],
      "source": [
        "#Degree centrality\n",
        "degree = list(G.degree())\n",
        "degree.sort(key = lambda x: x[1],reverse=True)"
      ]
    },
    {
      "cell_type": "code",
      "execution_count": null,
      "metadata": {
        "id": "vo2AFhDQz89R",
        "outputId": "d3e1beae-12dc-4801-d40c-f9308ba522d1"
      },
      "outputs": [
        {
          "data": {
            "text/plain": [
              "[('#blacklivesmatter', 622),\n",
              " ('#blm', 598),\n",
              " ('#black', 205),\n",
              " ('#blackhistorymonth', 120),\n",
              " ('#racism', 108),\n",
              " ('#lives', 107),\n",
              " ('#art', 104),\n",
              " ('#usa', 102),\n",
              " ('#matter', 89),\n",
              " ('#georgefloyd', 88)]"
            ]
          },
          "execution_count": 42,
          "metadata": {},
          "output_type": "execute_result"
        }
      ],
      "source": [
        "degree[:10]"
      ]
    },
    {
      "cell_type": "markdown",
      "metadata": {
        "id": "jKAfZFZzz89S"
      },
      "source": [
        "We can also replicate it with network weights, based on the frequency of the co-occurrence in the corpus:"
      ]
    },
    {
      "cell_type": "code",
      "execution_count": null,
      "metadata": {
        "id": "L8RXdDSrz89T"
      },
      "outputs": [],
      "source": [
        "#Normalized weighted degree centrality\n",
        "degree = G.degree(weight='weight')\n",
        "max_degree = max(dict(degree).values())\n",
        "degree_centrality_weighted = [deg/max_degree for deg in dict(degree).values()]\n",
        "degree_centrality_weighted = list(zip(G.nodes,degree_centrality_weighted))\n",
        "degree_centrality_weighted.sort(key = lambda x: x[1],reverse=True)"
      ]
    },
    {
      "cell_type": "code",
      "execution_count": null,
      "metadata": {
        "id": "5xhv8EXIz89V",
        "outputId": "a3290044-7a2c-4f42-fa82-f13f6d2227af"
      },
      "outputs": [
        {
          "data": {
            "text/plain": [
              "[('#blacklivesmatter', 1.0),\n",
              " ('#blm', 0.6897703549060543),\n",
              " ('#art', 0.4697286012526096),\n",
              " ('#black', 0.3974947807933194),\n",
              " ('#racism', 0.3594989561586639),\n",
              " ('#lives', 0.2580375782881002),\n",
              " ('#photography', 0.2384133611691023),\n",
              " ('#artists', 0.21711899791231734),\n",
              " ('#crisisart', 0.21711899791231734),\n",
              " ('#hate', 0.21711899791231734)]"
            ]
          },
          "execution_count": 17,
          "metadata": {},
          "output_type": "execute_result"
        }
      ],
      "source": [
        "\n",
        "degree_centrality_weighted[:10]"
      ]
    },
    {
      "cell_type": "markdown",
      "metadata": {
        "id": "AY80RKIzz89W"
      },
      "source": [
        "We can notice how the *#art* hashtag significantly grew with this approach. It also appeared, among the first hashtags, the *#artists* hashtag."
      ]
    },
    {
      "cell_type": "markdown",
      "metadata": {
        "id": "WAuUFFPFz89W"
      },
      "source": [
        "**Closeness centrality**\n",
        "\n",
        "The hashtag with the highest closeness are the ones that guarantee the information flow at the best possible velocity."
      ]
    },
    {
      "cell_type": "code",
      "execution_count": null,
      "metadata": {
        "id": "yQxzX9GNz89X"
      },
      "outputs": [],
      "source": [
        "#Closeness centrality (unweighted)\n",
        "closeness_noweights = list(nx.closeness_centrality(G).items())\n",
        "closeness_noweights.sort(key = lambda x: x[1],reverse=True)\n",
        "closeness_noweights = [(x,round(y,3)) for (x,y) in closeness_noweights]"
      ]
    },
    {
      "cell_type": "code",
      "execution_count": null,
      "metadata": {
        "id": "_ga6Knodz89X",
        "outputId": "2536ea97-668a-4e5b-db48-b6b052bcdd68"
      },
      "outputs": [
        {
          "data": {
            "text/plain": [
              "[('#blacklivesmatter', 0.628),\n",
              " ('#blm', 0.602),\n",
              " ('#black', 0.49),\n",
              " ('#racism', 0.472),\n",
              " ('#blackhistorymonth', 0.468),\n",
              " ('#art', 0.466),\n",
              " ('#georgefloyd', 0.464),\n",
              " ('#equality', 0.463),\n",
              " ('#usa', 0.462),\n",
              " ('#lives', 0.46)]"
            ]
          },
          "execution_count": 32,
          "metadata": {},
          "output_type": "execute_result"
        }
      ],
      "source": [
        "closeness_noweights[:10]"
      ]
    },
    {
      "cell_type": "code",
      "execution_count": null,
      "metadata": {
        "id": "66PAxFLWz89Y"
      },
      "outputs": [],
      "source": [
        "#Closeness centrality  (weighted)\n",
        "G_distance_dict = {(e1, e2): 1 / weight for e1, e2, weight in G.edges(data='weight')}\n",
        "nx.set_edge_attributes(G, G_distance_dict, 'distance')\n",
        "\n",
        "closenesses = list(nx.closeness_centrality(G, distance='distance').items())\n",
        "closenesses = [(x,round(y,3)) for (x,y) in closenesses]\n",
        "closenesses.sort(key = lambda x: x[1],reverse=True)"
      ]
    },
    {
      "cell_type": "code",
      "execution_count": null,
      "metadata": {
        "id": "w9TsJ6L0z89Z",
        "outputId": "b79aea89-2d0e-4cfc-ad2f-e9cd2756c474"
      },
      "outputs": [
        {
          "data": {
            "text/plain": [
              "[('#blacklivesmatter', 1.063),\n",
              " ('#blm', 1.061),\n",
              " ('#art', 1.056),\n",
              " ('#racism', 1.053),\n",
              " ('#photography', 1.05),\n",
              " ('#artists', 1.048),\n",
              " ('#crisisart', 1.048),\n",
              " ('#hate', 1.048),\n",
              " ('#whitepower', 1.048),\n",
              " ('#kkk', 1.048)]"
            ]
          },
          "execution_count": 19,
          "metadata": {},
          "output_type": "execute_result"
        }
      ],
      "source": [
        "closenesses[:10]"
      ]
    },
    {
      "cell_type": "markdown",
      "metadata": {
        "id": "aHah1hEdz89a"
      },
      "source": [
        "Also in this case, by reading the weighted closeness, with notice how the hashtags to visual arts allows rapid diffusion of content related to the BLM sphere."
      ]
    },
    {
      "cell_type": "markdown",
      "metadata": {
        "id": "oU8Z0oGMz89a"
      },
      "source": [
        "**Betweenness centrality**\n",
        "\n",
        "The hashtags that best meet the status of *bridging words* will have higher values on betweenness centrality:"
      ]
    },
    {
      "cell_type": "code",
      "execution_count": null,
      "metadata": {
        "id": "FdVV_wFpz89a"
      },
      "outputs": [],
      "source": [
        "#Betweenness centrality (unweighted)\n",
        "betweenness_centrality_unweighted = nx.betweenness_centrality(G)\n",
        "betweennessesu = list(betweenness_centrality_unweighted.items())\n",
        "betweennessesu = [(x,round(y,3)) for (x,y) in betweennessesu]\n",
        "betweennessesu.sort(key = lambda x: x[1],reverse=True)"
      ]
    },
    {
      "cell_type": "code",
      "execution_count": null,
      "metadata": {
        "id": "-nyLJKh4z89e",
        "outputId": "40d93de5-5817-4d3d-c62f-7d56d1e1e7c1"
      },
      "outputs": [
        {
          "data": {
            "text/plain": [
              "[('#blacklivesmatter', 0.479),\n",
              " ('#blm', 0.41),\n",
              " ('#black', 0.074),\n",
              " ('#blackhistorymonth', 0.047),\n",
              " ('#usa', 0.042),\n",
              " ('#letsgobrandon', 0.031),\n",
              " ('#racism', 0.026),\n",
              " ('#mlkday', 0.023),\n",
              " ('#etsy', 0.021),\n",
              " ('#mlk', 0.015)]"
            ]
          },
          "execution_count": 45,
          "metadata": {},
          "output_type": "execute_result"
        }
      ],
      "source": [
        "betweennessesu[:10]"
      ]
    },
    {
      "cell_type": "code",
      "execution_count": null,
      "metadata": {
        "id": "xjjmjQjZz89g"
      },
      "outputs": [],
      "source": [
        "#Betweenness centrality \n",
        "betweenness_centrality_weighted = nx.betweenness_centrality(G, weight='weight')\n",
        "betweennesses = list(betweenness_centrality_weighted.items())\n",
        "betweennesses = [(x,round(y,3)) for (x,y) in betweennesses]\n",
        "betweennesses.sort(key = lambda x: x[1],reverse=True)"
      ]
    },
    {
      "cell_type": "code",
      "execution_count": null,
      "metadata": {
        "id": "DybvZQdSz89g",
        "outputId": "cf8f9ea1-e729-4664-f57b-75f425439055"
      },
      "outputs": [
        {
          "data": {
            "text/plain": [
              "[('#blacklivesmatter', 0.446),\n",
              " ('#blm', 0.389),\n",
              " ('#black', 0.082),\n",
              " ('#blackhistorymonth', 0.052),\n",
              " ('#usa', 0.041),\n",
              " ('#letsgobrandon', 0.033),\n",
              " ('#etsy', 0.026),\n",
              " ('#racism', 0.021),\n",
              " ('#mlkday', 0.019),\n",
              " ('#mlk', 0.019)]"
            ]
          },
          "execution_count": 22,
          "metadata": {},
          "output_type": "execute_result"
        }
      ],
      "source": [
        "betweennesses[:10]"
      ]
    },
    {
      "cell_type": "markdown",
      "metadata": {
        "id": "9Bc2ctuAz89h"
      },
      "source": [
        "We can notice how art-related words disappeared."
      ]
    },
    {
      "cell_type": "markdown",
      "metadata": {
        "id": "32sYy0yHz89i"
      },
      "source": [
        "**Eigenvector centrality**\n",
        "\n",
        "With eigenvector centrality, we can consider the importance of hashtags based on the centrality of their direct links:"
      ]
    },
    {
      "cell_type": "code",
      "execution_count": null,
      "metadata": {
        "id": "fvAnKUw4z89i"
      },
      "outputs": [],
      "source": [
        "#Eigenvector centrality (unweighted)\n",
        "eigenvector_centrality_u = nx.eigenvector_centrality(G)\n",
        "eigenvectorsu = list(eigenvector_centrality_u.items())\n",
        "eigenvectorsu = [(x,round(y,3)) for (x,y) in eigenvectorsu]\n",
        "eigenvectorsu.sort(key = lambda x: x[1],reverse=True)"
      ]
    },
    {
      "cell_type": "code",
      "execution_count": null,
      "metadata": {
        "id": "g9Mbm3Ygz89j",
        "outputId": "95ec0720-8b4b-414c-cd2b-a61dbd7481ff"
      },
      "outputs": [
        {
          "data": {
            "text/plain": [
              "[('#blacklivesmatter', 0.404),\n",
              " ('#blm', 0.358),\n",
              " ('#black', 0.187),\n",
              " ('#racism', 0.143),\n",
              " ('#lives', 0.128),\n",
              " ('#matter', 0.114),\n",
              " ('#equality', 0.109),\n",
              " ('#art', 0.103),\n",
              " ('#georgefloyd', 0.1),\n",
              " ('#love', 0.096)]"
            ]
          },
          "execution_count": 48,
          "metadata": {},
          "output_type": "execute_result"
        }
      ],
      "source": [
        "eigenvectorsu[:10]"
      ]
    },
    {
      "cell_type": "code",
      "execution_count": null,
      "metadata": {
        "id": "apCr-B9-z89j"
      },
      "outputs": [],
      "source": [
        "#Eigenvector centrality \n",
        "eigenvector_centrality_weighted = nx.eigenvector_centrality(G, weight='weight')\n",
        "eigenvectors = list(eigenvector_centrality_weighted.items())\n",
        "eigenvectors = [(x,round(y,3)) for (x,y) in eigenvectors]\n",
        "eigenvectors.sort(key = lambda x: x[1],reverse=True)"
      ]
    },
    {
      "cell_type": "code",
      "execution_count": null,
      "metadata": {
        "id": "bMO3-JcPz89k",
        "outputId": "555aa7c1-f242-495d-cee1-dff19dbd3754"
      },
      "outputs": [
        {
          "data": {
            "text/plain": [
              "[('#blacklivesmatter', 0.44),\n",
              " ('#art', 0.374),\n",
              " ('#blm', 0.358),\n",
              " ('#racism', 0.309),\n",
              " ('#artists', 0.267),\n",
              " ('#crisisart', 0.267),\n",
              " ('#hate', 0.267),\n",
              " ('#whitepower', 0.267),\n",
              " ('#kkk', 0.267),\n",
              " ('#photography', 0.155)]"
            ]
          },
          "execution_count": 74,
          "metadata": {},
          "output_type": "execute_result"
        }
      ],
      "source": [
        "eigenvectors[:10]"
      ]
    },
    {
      "cell_type": "markdown",
      "metadata": {
        "id": "JFUKS5VUz89l"
      },
      "source": [
        "We can notice how the *#art* words returned as an important word."
      ]
    },
    {
      "cell_type": "markdown",
      "metadata": {
        "id": "hBwHW_GVz89m"
      },
      "source": [
        "**Network visualization**\n",
        "\n",
        "To have a good visualization of this network, it can be useful to explore different packages from NetworkX.\n",
        "\n",
        "With the hashed code below, you can save the graphic representation of the network in html format:"
      ]
    },
    {
      "cell_type": "code",
      "execution_count": null,
      "metadata": {
        "scrolled": false,
        "id": "5RAz3tZwz89m"
      },
      "outputs": [],
      "source": [
        "#*NETWORK VISUALIZATION\n",
        "#net = Network(notebook = True)\n",
        "#net.from_nx(G)\n",
        "\n",
        "#net.show(\"network.html\")"
      ]
    },
    {
      "cell_type": "markdown",
      "metadata": {
        "id": "SOqI86gRz89n"
      },
      "source": [
        "You can also export the graph in graphml format to explore and visualize it with other software:"
      ]
    },
    {
      "cell_type": "code",
      "execution_count": null,
      "metadata": {
        "id": "JVbpudMPz89n"
      },
      "outputs": [],
      "source": [
        "nx.write_graphml(G,\"hashtagnetwork_BLM.graphml\")"
      ]
    },
    {
      "cell_type": "code",
      "execution_count": null,
      "metadata": {
        "id": "lf_N8UHYz89n"
      },
      "outputs": [],
      "source": [
        ""
      ]
    }
  ],
  "metadata": {
    "kernelspec": {
      "display_name": "Python 3",
      "language": "python",
      "name": "python3"
    },
    "language_info": {
      "codemirror_mode": {
        "name": "ipython",
        "version": 3
      },
      "file_extension": ".py",
      "mimetype": "text/x-python",
      "name": "python",
      "nbconvert_exporter": "python",
      "pygments_lexer": "ipython3",
      "version": "3.8.3"
    },
    "colab": {
      "name": "Hashtag_Analysis_2_Python.ipynb",
      "provenance": [],
      "include_colab_link": true
    }
  },
  "nbformat": 4,
  "nbformat_minor": 0
}